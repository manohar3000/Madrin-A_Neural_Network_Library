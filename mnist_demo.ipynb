{
  "cells": [
    {
      "cell_type": "code",
      "source": [
        "#It is just a demonstration on how to use madrin\n",
        "#Try to experiment with learning rate, epochs, activation functions,..."
      ],
      "metadata": {
        "id": "MyD7xkvI6S5f"
      },
      "execution_count": 1,
      "outputs": []
    },
    {
      "cell_type": "code",
      "execution_count": 2,
      "metadata": {
        "id": "GauARIzxGl0C",
        "colab": {
          "base_uri": "https://localhost:8080/"
        },
        "outputId": "0a0fc853-b7e9-4d3a-ef6c-321446627248"
      },
      "outputs": [
        {
          "output_type": "stream",
          "name": "stdout",
          "text": [
            "Collecting madrin\n",
            "  Downloading madrin-1.0.0-py3-none-any.whl (5.0 kB)\n",
            "Requirement already satisfied: numpy in /usr/local/lib/python3.10/dist-packages (from madrin) (1.25.2)\n",
            "Installing collected packages: madrin\n",
            "Successfully installed madrin-1.0.0\n"
          ]
        }
      ],
      "source": [
        "!pip install madrin"
      ]
    },
    {
      "cell_type": "code",
      "source": [
        "import numpy as np\n",
        "import matplotlib.pyplot as plt\n",
        "from tensorflow.keras.datasets import mnist\n",
        "import madrin as mad"
      ],
      "metadata": {
        "id": "HbiqLSmUz4tK"
      },
      "execution_count": 3,
      "outputs": []
    },
    {
      "cell_type": "code",
      "source": [
        "(x_train, y_train), (x_test, y_test) = mnist.load_data()"
      ],
      "metadata": {
        "colab": {
          "base_uri": "https://localhost:8080/"
        },
        "id": "t3cHAbqky-D-",
        "outputId": "c5eaee2b-e4c9-4140-d80f-dfaf4c718ab3"
      },
      "execution_count": 4,
      "outputs": [
        {
          "output_type": "stream",
          "name": "stdout",
          "text": [
            "Downloading data from https://storage.googleapis.com/tensorflow/tf-keras-datasets/mnist.npz\n",
            "11490434/11490434 [==============================] - 1s 0us/step\n"
          ]
        }
      ]
    },
    {
      "cell_type": "code",
      "source": [
        "x_train = x_train.reshape(-1, 784)\n",
        "x_test = x_test.reshape(-1, 784)"
      ],
      "metadata": {
        "id": "fIvnm__v0DeR"
      },
      "execution_count": 5,
      "outputs": []
    },
    {
      "cell_type": "code",
      "source": [
        "#Creating the model using Network class of madrin\n",
        "model=mad.Network([\n",
        "    mad.Linear(100, 784, gain=1.414213562), mad.Relu(),\n",
        "    mad.Linear(100,100, gain=1.414213562), mad.Relu(),\n",
        "    mad.Linear(10,100, gain=0.001), mad.Softmax()\n",
        "])"
      ],
      "metadata": {
        "id": "5XEF470g0MOW"
      },
      "execution_count": 6,
      "outputs": []
    },
    {
      "cell_type": "code",
      "source": [
        "#Compile the model(Just specify the loss and learning_rate to be used)\n",
        "model.compile(loss=\"categorical_crossentropy\", lr=0.00005)"
      ],
      "metadata": {
        "id": "MxULtmGl0f8K"
      },
      "execution_count": 7,
      "outputs": []
    },
    {
      "cell_type": "code",
      "source": [
        "#Train the model\n",
        "model.fit(x_train,y_train,epochs=150,batch_size=6000,track_loss=True)"
      ],
      "metadata": {
        "id": "5Vkrahs_0rOM"
      },
      "execution_count": 8,
      "outputs": []
    },
    {
      "cell_type": "code",
      "source": [
        "#Plot the loss with each epoch\n",
        "plt.plot(np.arange(len(model.costs)),model.costs)\n",
        "plt.xlabel(\"Iteration\")\n",
        "plt.ylabel(\"Loss\")\n",
        "plt.show()"
      ],
      "metadata": {
        "colab": {
          "base_uri": "https://localhost:8080/",
          "height": 449
        },
        "id": "tC2cebMj1L60",
        "outputId": "61afa916-49c6-4cf0-849f-cfee8d67513e"
      },
      "execution_count": 9,
      "outputs": [
        {
          "output_type": "display_data",
          "data": {
            "text/plain": [
              "<Figure size 640x480 with 1 Axes>"
            ],
            "image/png": "[encoded data removed]"
          },
          "metadata": {}
        }
      ]
    },
    {
      "cell_type": "code",
      "source": [
        "#Check Accuracy on test set\n",
        "y_predict = model.forward(x_test)\n",
        "predict = np.argmax(y_predict,axis=1)\n",
        "\n",
        "count=0\n",
        "for j in range(len(y_test)):\n",
        "    if predict[j]==y_test[j]:\n",
        "        count+=1\n",
        "print(f\"Accuracy: {(count / len(y_test))*100}%\")"
      ],
      "metadata": {
        "colab": {
          "base_uri": "https://localhost:8080/"
        },
        "id": "XFN0pZ9C14eF",
        "outputId": "12bbcc4c-0ece-49fe-94fa-53c3bfaa1283"
      },
      "execution_count": 10,
      "outputs": [
        {
          "output_type": "stream",
          "name": "stdout",
          "text": [
            "Accuracy: 84.13000000000001%\n"
          ]
        }
      ]
    }
  ],
  "metadata": {
    "colab": {
      "provenance": [],
      "toc_visible": true
    },
    "kernelspec": {
      "display_name": "Python 3",
      "name": "python3"
    },
    "language_info": {
      "name": "python"
    }
  },
  "nbformat": 4,
  "nbformat_minor": 0
}
